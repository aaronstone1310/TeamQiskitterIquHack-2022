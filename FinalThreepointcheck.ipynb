{
  "cells": [
    {
      "cell_type": "code",
      "source": [
        "from azure.quantum import Workspace\n",
        "workspace = Workspace (\n",
        "    subscription_id = \"b1d7f7f8-743f-458e-b3a0-3e09734d716d\",\n",
        "    resource_group = \"aq-hackathons\",\n",
        "    name = \"aq-hackathon-01\",\n",
        "    location = \"eastus\"\n",
        ")\n"
      ],
      "outputs": [],
      "execution_count": 1,
      "metadata": {
        "jupyter": {
          "source_hidden": false,
          "outputs_hidden": false
        },
        "nteract": {
          "transient": {
            "deleting": false
          }
        }
      }
    },
    {
      "cell_type": "code",
      "source": [
        "from qiskit import QuantumCircuit\r\n",
        "#from qiskit.visualization import plot_histogram\r\n",
        "#from qiskit.tools.monitor import job_monitor\r\n",
        "from azure.quantum.qiskit import AzureQuantumProvider"
      ],
      "outputs": [],
      "execution_count": 2,
      "metadata": {
        "jupyter": {
          "source_hidden": false,
          "outputs_hidden": false
        },
        "nteract": {
          "transient": {
            "deleting": false
          }
        }
      }
    },
    {
      "cell_type": "code",
      "source": [
        "from azure.quantum.qiskit import AzureQuantumProvider\r\n",
        "provider = AzureQuantumProvider (\r\n",
        "    resource_id = \"/subscriptions/b1d7f7f8-743f-458e-b3a0-3e09734d716d/resourceGroups/aq-hackathons/providers/Microsoft.Quantum/Workspaces/aq-hackathon-01\",\r\n",
        "    location = \"eastus\"\r\n",
        ")"
      ],
      "outputs": [],
      "execution_count": 3,
      "metadata": {
        "jupyter": {
          "source_hidden": false,
          "outputs_hidden": false
        },
        "nteract": {
          "transient": {
            "deleting": false
          }
        }
      }
    },
    {
      "cell_type": "code",
      "source": [
        "from qiskit import QuantumCircuit, assemble, Aer\r\n",
        "from qiskit.visualization import plot_histogram\r\n",
        "# Circuit 1, making random numbers\r\n",
        "# The number of qubits are 8 which represent ....\r\n",
        "\r\n",
        "circuit1 = QuantumCircuit(8, 8)\r\n",
        "#Hadamard on all qubits\r\n",
        "for i in range (0,8):\r\n",
        "    circuit1.h(i)\r\n",
        "\r\n",
        "\r\n",
        "#Measurement part\r\n",
        "for i in range (0,8):\r\n",
        "    circuit1.measure(i,i)\r\n",
        "\r\n",
        "sim = Aer.get_backend('aer_simulator')\r\n",
        "result = sim.run(circuit1 , shots = 1).result()\r\n",
        "counts = result.get_counts()\r\n",
        "plot_histogram(counts)\r\n",
        "#Print out the circuit\r\n",
        "\r\n",
        "circuit1.draw()"
      ],
      "outputs": [
        {
          "output_type": "execute_result",
          "execution_count": 4,
          "data": {
            "text/plain": "     ┌───┐┌─┐                     \nq_0: ┤ H ├┤M├─────────────────────\n     ├───┤└╥┘┌─┐                  \nq_1: ┤ H ├─╫─┤M├──────────────────\n     ├───┤ ║ └╥┘┌─┐               \nq_2: ┤ H ├─╫──╫─┤M├───────────────\n     ├───┤ ║  ║ └╥┘┌─┐            \nq_3: ┤ H ├─╫──╫──╫─┤M├────────────\n     ├───┤ ║  ║  ║ └╥┘┌─┐         \nq_4: ┤ H ├─╫──╫──╫──╫─┤M├─────────\n     ├───┤ ║  ║  ║  ║ └╥┘┌─┐      \nq_5: ┤ H ├─╫──╫──╫──╫──╫─┤M├──────\n     ├───┤ ║  ║  ║  ║  ║ └╥┘┌─┐   \nq_6: ┤ H ├─╫──╫──╫──╫──╫──╫─┤M├───\n     ├───┤ ║  ║  ║  ║  ║  ║ └╥┘┌─┐\nq_7: ┤ H ├─╫──╫──╫──╫──╫──╫──╫─┤M├\n     └───┘ ║  ║  ║  ║  ║  ║  ║ └╥┘\nc: 8/══════╩══╩══╩══╩══╩══╩══╩══╩═\n           0  1  2  3  4  5  6  7 ",
            "text/html": "<pre style=\"word-wrap: normal;white-space: pre;background: #fff0;line-height: 1.1;font-family: &quot;Courier New&quot;,Courier,monospace\">     ┌───┐┌─┐                     \nq_0: ┤ H ├┤M├─────────────────────\n     ├───┤└╥┘┌─┐                  \nq_1: ┤ H ├─╫─┤M├──────────────────\n     ├───┤ ║ └╥┘┌─┐               \nq_2: ┤ H ├─╫──╫─┤M├───────────────\n     ├───┤ ║  ║ └╥┘┌─┐            \nq_3: ┤ H ├─╫──╫──╫─┤M├────────────\n     ├───┤ ║  ║  ║ └╥┘┌─┐         \nq_4: ┤ H ├─╫──╫──╫──╫─┤M├─────────\n     ├───┤ ║  ║  ║  ║ └╥┘┌─┐      \nq_5: ┤ H ├─╫──╫──╫──╫──╫─┤M├──────\n     ├───┤ ║  ║  ║  ║  ║ └╥┘┌─┐   \nq_6: ┤ H ├─╫──╫──╫──╫──╫──╫─┤M├───\n     ├───┤ ║  ║  ║  ║  ║  ║ └╥┘┌─┐\nq_7: ┤ H ├─╫──╫──╫──╫──╫──╫──╫─┤M├\n     └───┘ ║  ║  ║  ║  ║  ║  ║ └╥┘\nc: 8/══════╩══╩══╩══╩══╩══╩══╩══╩═\n           0  1  2  3  4  5  6  7 </pre>"
          },
          "metadata": {}
        }
      ],
      "execution_count": 4,
      "metadata": {
        "jupyter": {
          "source_hidden": false,
          "outputs_hidden": false
        },
        "nteract": {
          "transient": {
            "deleting": false
          }
        }
      }
    },
    {
      "cell_type": "code",
      "source": [
        "#Akash \r\n",
        "#Circuit 2, Preparation and Superposition\r\n",
        "\r\n",
        "digit_map = map(int, counts.keys())\r\n",
        "\r\n",
        "digit_list = list(digit_map)\r\n",
        "res=int(digit_list[0])\r\n",
        "A = [int(x) for x in str(res)]\r\n",
        "print(A)\r\n",
        "circuit=QuantumCircuit(8,8)\r\n",
        "# try to write a line of code which appends all the output  string in this list.(A) list name\r\n",
        "\r\n",
        "for i in range(0,8):\r\n",
        "    if A[i] == 0:\r\n",
        "        circuit.i(i)\r\n",
        "    else:\r\n",
        "        circuit.x(i)\r\n",
        "for i in range(0,8):\r\n",
        "    circuit.h(i)\r\n"
      ],
      "outputs": [
        {
          "output_type": "stream",
          "name": "stdout",
          "text": "[1, 1, 0, 1, 0, 1, 1, 1]\n"
        }
      ],
      "execution_count": 12,
      "metadata": {
        "jupyter": {
          "source_hidden": false,
          "outputs_hidden": false
        },
        "nteract": {
          "transient": {
            "deleting": false
          }
        }
      }
    },
    {
      "cell_type": "code",
      "source": [
        "#Shrushti Patil\r\n",
        "#Player Input/apply gates on Quantum circuit= 'circuit'"
      ],
      "outputs": [],
      "execution_count": 6,
      "metadata": {
        "jupyter": {
          "source_hidden": false,
          "outputs_hidden": false
        },
        "nteract": {
          "transient": {
            "deleting": false
          }
        }
      }
    },
    {
      "cell_type": "code",
      "source": [
        "#Malven\r\n",
        "#Circuit 2, Entanglement and measurement\r\n",
        "circuit.cx(0,1)\r\n",
        "circuit.cx(2,3)\r\n",
        "circuit.cx(4,5)\r\n",
        "circuit.cx(6,7)\r\n",
        "\r\n",
        "circuit.measure(2,2)\r\n",
        "circuit.measure(3,3)\r\n",
        "circuit.measure(5,5)\r\n",
        "circuit.measure(7,7)\r\n",
        "\r\n",
        "circuit.draw()"
      ],
      "outputs": [
        {
          "output_type": "execute_result",
          "execution_count": 7,
          "data": {
            "text/plain": "     ┌───┐┌───┐                 \nq_0: ┤ X ├┤ H ├──■──────────────\n     ├───┤├───┤┌─┴─┐            \nq_1: ┤ X ├┤ H ├┤ X ├────────────\n     ├───┤├───┤└───┘┌─┐         \nq_2: ┤ I ├┤ H ├──■──┤M├─────────\n     ├───┤├───┤┌─┴─┐└╥┘┌─┐      \nq_3: ┤ X ├┤ H ├┤ X ├─╫─┤M├──────\n     ├───┤├───┤└───┘ ║ └╥┘      \nq_4: ┤ I ├┤ H ├──■───╫──╫───────\n     ├───┤├───┤┌─┴─┐ ║  ║ ┌─┐   \nq_5: ┤ X ├┤ H ├┤ X ├─╫──╫─┤M├───\n     ├───┤├───┤└───┘ ║  ║ └╥┘   \nq_6: ┤ X ├┤ H ├──■───╫──╫──╫────\n     ├───┤├───┤┌─┴─┐ ║  ║  ║ ┌─┐\nq_7: ┤ X ├┤ H ├┤ X ├─╫──╫──╫─┤M├\n     └───┘└───┘└───┘ ║  ║  ║ └╥┘\nc: 8/════════════════╩══╩══╩══╩═\n                     2  3  5  7 ",
            "text/html": "<pre style=\"word-wrap: normal;white-space: pre;background: #fff0;line-height: 1.1;font-family: &quot;Courier New&quot;,Courier,monospace\">     ┌───┐┌───┐                 \nq_0: ┤ X ├┤ H ├──■──────────────\n     ├───┤├───┤┌─┴─┐            \nq_1: ┤ X ├┤ H ├┤ X ├────────────\n     ├───┤├───┤└───┘┌─┐         \nq_2: ┤ I ├┤ H ├──■──┤M├─────────\n     ├───┤├───┤┌─┴─┐└╥┘┌─┐      \nq_3: ┤ X ├┤ H ├┤ X ├─╫─┤M├──────\n     ├───┤├───┤└───┘ ║ └╥┘      \nq_4: ┤ I ├┤ H ├──■───╫──╫───────\n     ├───┤├───┤┌─┴─┐ ║  ║ ┌─┐   \nq_5: ┤ X ├┤ H ├┤ X ├─╫──╫─┤M├───\n     ├───┤├───┤└───┘ ║  ║ └╥┘   \nq_6: ┤ X ├┤ H ├──■───╫──╫──╫────\n     ├───┤├───┤┌─┴─┐ ║  ║  ║ ┌─┐\nq_7: ┤ X ├┤ H ├┤ X ├─╫──╫──╫─┤M├\n     └───┘└───┘└───┘ ║  ║  ║ └╥┘\nc: 8/════════════════╩══╩══╩══╩═\n                     2  3  5  7 </pre>"
          },
          "metadata": {}
        }
      ],
      "execution_count": 7,
      "metadata": {
        "jupyter": {
          "source_hidden": false,
          "outputs_hidden": false
        },
        "nteract": {
          "transient": {
            "deleting": false
          }
        }
      }
    },
    {
      "cell_type": "code",
      "source": [
        "simulator_backend = provider.get_backend(\"ionq.simulator\")"
      ],
      "outputs": [],
      "execution_count": 8,
      "metadata": {
        "jupyter": {
          "source_hidden": false,
          "outputs_hidden": false
        },
        "nteract": {
          "transient": {
            "deleting": false
          }
        }
      }
    },
    {
      "cell_type": "code",
      "source": [
        "job = simulator_backend.run(circuit, shots=100)\r\n",
        "job_id = job.id()\r\n",
        "print(\"Job id\", job_id)"
      ],
      "outputs": [
        {
          "output_type": "stream",
          "name": "stdout",
          "text": "Job id 5e947632-81ea-11ec-83f5-00155dc3dcf4\n"
        }
      ],
      "execution_count": 9,
      "metadata": {
        "jupyter": {
          "source_hidden": false,
          "outputs_hidden": false
        },
        "nteract": {
          "transient": {
            "deleting": false
          }
        }
      }
    },
    {
      "cell_type": "code",
      "source": [
        "backend = provider.get_backend(\"ionq.qpu\")\r\n",
        "cost = backend.estimate_cost(circuit, shots=100)\r\n",
        "\r\n",
        "print(f\"Estimated cost: {cost.estimated_total}\")"
      ],
      "outputs": [
        {
          "output_type": "error",
          "ename": "AttributeError",
          "evalue": "'IonQQPUBackend' object has no attribute 'estimate_cost'",
          "traceback": [
            "\u001b[0;31m---------------------------------------------------------------------------\u001b[0m",
            "\u001b[0;31mAttributeError\u001b[0m                            Traceback (most recent call last)",
            "\u001b[0;32m/tmp/ipykernel_10749/1142861796.py\u001b[0m in \u001b[0;36m<module>\u001b[0;34m\u001b[0m\n\u001b[1;32m      1\u001b[0m \u001b[0mbackend\u001b[0m \u001b[0;34m=\u001b[0m \u001b[0mprovider\u001b[0m\u001b[0;34m.\u001b[0m\u001b[0mget_backend\u001b[0m\u001b[0;34m(\u001b[0m\u001b[0;34m\"ionq.qpu\"\u001b[0m\u001b[0;34m)\u001b[0m\u001b[0;34m\u001b[0m\u001b[0;34m\u001b[0m\u001b[0m\n\u001b[0;32m----> 2\u001b[0;31m \u001b[0mcost\u001b[0m \u001b[0;34m=\u001b[0m \u001b[0mbackend\u001b[0m\u001b[0;34m.\u001b[0m\u001b[0mestimate_cost\u001b[0m\u001b[0;34m(\u001b[0m\u001b[0mcircuit\u001b[0m\u001b[0;34m,\u001b[0m \u001b[0mshots\u001b[0m\u001b[0;34m=\u001b[0m\u001b[0;36m100\u001b[0m\u001b[0;34m)\u001b[0m\u001b[0;34m\u001b[0m\u001b[0;34m\u001b[0m\u001b[0m\n\u001b[0m\u001b[1;32m      3\u001b[0m \u001b[0;34m\u001b[0m\u001b[0m\n\u001b[1;32m      4\u001b[0m \u001b[0mprint\u001b[0m\u001b[0;34m(\u001b[0m\u001b[0;34mf\"Estimated cost: {cost.estimated_total}\"\u001b[0m\u001b[0;34m)\u001b[0m\u001b[0;34m\u001b[0m\u001b[0;34m\u001b[0m\u001b[0m\n",
            "\u001b[0;31mAttributeError\u001b[0m: 'IonQQPUBackend' object has no attribute 'estimate_cost'"
          ]
        }
      ],
      "execution_count": 25,
      "metadata": {
        "jupyter": {
          "source_hidden": false,
          "outputs_hidden": false
        },
        "nteract": {
          "transient": {
            "deleting": false
          }
        }
      }
    },
    {
      "cell_type": "code",
      "source": [
        "#Classical Check\r\n",
        "Inicoordinates=[]\r\n",
        "for i in range (0,7,2):\r\n",
        "    y=(2*A[i])+(A[i+1])\r\n",
        "    Inicoordinates.append(y)\r\n",
        "print(Inicoordinates)\r\n",
        "#Check output is collinear or not\r\n"
      ],
      "outputs": [],
      "execution_count": null,
      "metadata": {
        "jupyter": {
          "source_hidden": false,
          "outputs_hidden": false
        },
        "nteract": {
          "transient": {
            "deleting": false
          }
        }
      }
    },
    {
      "cell_type": "code",
      "source": [
        "result = job.result()"
      ],
      "outputs": [],
      "execution_count": null,
      "metadata": {
        "jupyter": {
          "source_hidden": false,
          "outputs_hidden": false
        },
        "nteract": {
          "transient": {
            "deleting": false
          }
        }
      }
    },
    {
      "cell_type": "code",
      "source": [
        "type(result)"
      ],
      "outputs": [],
      "execution_count": null,
      "metadata": {
        "jupyter": {
          "source_hidden": false,
          "outputs_hidden": false
        },
        "nteract": {
          "transient": {
            "deleting": false
          }
        }
      }
    },
    {
      "cell_type": "code",
      "source": [
        "print(result)"
      ],
      "outputs": [],
      "execution_count": null,
      "metadata": {
        "jupyter": {
          "source_hidden": false,
          "outputs_hidden": false
        },
        "nteract": {
          "transient": {
            "deleting": false
          }
        }
      }
    },
    {
      "cell_type": "code",
      "source": [
        "# The histogram returned by the results can be sparse, so here we add any of the missing bitstring labels.\r\n",
        "counts = {format(n, \"03b\"): 0 for n in range(8)}\r\n",
        "counts.update(result.get_counts(circuit))\r\n",
        "print(counts)\r\n",
        "plot_histogram(counts)"
      ],
      "outputs": [],
      "execution_count": null,
      "metadata": {
        "jupyter": {
          "source_hidden": false,
          "outputs_hidden": false
        },
        "nteract": {
          "transient": {
            "deleting": false
          }
        }
      }
    }
  ],
  "metadata": {
    "language_info": {
      "name": "python",
      "version": "3.7.12",
      "mimetype": "text/x-python",
      "codemirror_mode": {
        "name": "ipython",
        "version": 3
      },
      "pygments_lexer": "ipython3",
      "nbconvert_exporter": "python",
      "file_extension": ".py"
    },
    "kernelspec": {
      "name": "python3",
      "language": "python",
      "display_name": "Python 3 (ipykernel)"
    },
    "kernel_info": {
      "name": "python3"
    },
    "nteract": {
      "version": "nteract-front-end@1.0.0"
    }
  },
  "nbformat": 4,
  "nbformat_minor": 0
}